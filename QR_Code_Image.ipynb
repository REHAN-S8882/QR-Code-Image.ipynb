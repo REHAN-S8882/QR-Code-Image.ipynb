{
  "nbformat": 4,
  "nbformat_minor": 0,
  "metadata": {
    "colab": {
      "provenance": []
    },
    "kernelspec": {
      "name": "python3",
      "display_name": "Python 3"
    },
    "language_info": {
      "name": "python"
    }
  },
  "cells": [
    {
      "cell_type": "code",
      "source": [
        "!pip install qrcode[pil]"
      ],
      "metadata": {
        "colab": {
          "base_uri": "https://localhost:8080/"
        },
        "id": "_6YnnJo7WdME",
        "outputId": "d62c4aff-2051-4e2e-a7cb-a3d4d5c3c143"
      },
      "execution_count": null,
      "outputs": [
        {
          "output_type": "stream",
          "name": "stdout",
          "text": [
            "Collecting qrcode[pil]\n",
            "  Downloading qrcode-8.0-py3-none-any.whl.metadata (17 kB)\n",
            "Requirement already satisfied: pillow>=9.1.0 in /usr/local/lib/python3.10/dist-packages (from qrcode[pil]) (10.4.0)\n",
            "Downloading qrcode-8.0-py3-none-any.whl (45 kB)\n",
            "\u001b[2K   \u001b[90m━━━━━━━━━━━━━━━━━━━━━━━━━━━━━━━━━━━━━━━━\u001b[0m \u001b[32m45.7/45.7 kB\u001b[0m \u001b[31m1.3 MB/s\u001b[0m eta \u001b[36m0:00:00\u001b[0m\n",
            "\u001b[?25hInstalling collected packages: qrcode\n",
            "Successfully installed qrcode-8.0\n"
          ]
        }
      ]
    },
    {
      "cell_type": "code",
      "source": [
        "import qrcode"
      ],
      "metadata": {
        "id": "xyfAVkiFW2r-"
      },
      "execution_count": null,
      "outputs": []
    },
    {
      "source": [
        "# Data to encode in the QR code\n",
        "data = \"Hello!\"\n",
        "\n",
        "# Create a QR code instance\n",
        "qr = qrcode.QRCode(version=1, box_size=10, border=5)\n",
        "\n",
        "# Add data to the QR code\n",
        "qr.add_data(data)\n",
        "\n",
        "# Make the QR code\n",
        "qr.make(fit=True)\n",
        "\n",
        "# Create an image from the QR code\n",
        "img = qr.make_image(fill_color=\"black\", back_color=\"white\")\n",
        "\n",
        "# Save the QR code as a PNG file\n",
        "img.save(\"qrcode.png\")\n",
        "\n",
        "# Display the QR code in the notebook\n",
        "display(img)"
      ],
      "cell_type": "code",
      "metadata": {
        "colab": {
          "base_uri": "https://localhost:8080/",
          "height": 327
        },
        "id": "rOE456jdWwEr",
        "outputId": "1d1f90c0-de2b-4d46-fe52-930118d42f99"
      },
      "execution_count": 7,
      "outputs": [
        {
          "output_type": "display_data",
          "data": {
            "text/plain": [
              "<qrcode.image.pil.PilImage at 0x7ce8fe88e410>"
            ],
            "image/png": "[encoded data removed]",
            "image/jpeg": "[encoded data removed]"
          },
          "metadata": {}
        }
      ]
    }
  ]
}